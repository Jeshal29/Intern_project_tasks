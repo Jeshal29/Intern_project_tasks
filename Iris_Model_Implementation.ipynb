# Import necessary libraries
from sklearn.datasets import load_iris
from sklearn.model_selection import train_test_split
from sklearn.ensemble import RandomForestClassifier
from sklearn.metrics import classification_report, accuracy_score
import pandas as pd
import matplotlib.pyplot as plt

# Load the iris dataset
iris = load_iris()
X = iris.data
y = iris.target

# Convert to DataFrame for better visualization
df = pd.DataFrame(X, columns=iris.feature_names)
df['target'] = y

# Display the first 5 rows
print("🔍 Sample of the dataset:")
print(df.head())

# Split the data into training and testing sets
X_train, X_test, y_train, y_test = train_test_split(X, y, test_size=0.3, random_state=42)

# Train a RandomForest classifier
model = RandomForestClassifier()
model.fit(X_train, y_train)

# Predict using the model
y_pred = model.predict(X_test)

# Show accuracy and classification report
print("\n✅ Model Evaluation:")
print("Accuracy:", accuracy_score(y_test, y_pred))
print("\nClassification Report:\n", classification_report(y_test, y_pred))

# Optional: Plot feature importance
plt.figure(figsize=(8,5))
plt.barh(iris.feature_names, model.feature_importances_, color='skyblue')
plt.xlabel("Feature Importance")
plt.title("Feature Importance in Iris Classification")
plt.grid(True)
plt.show()
